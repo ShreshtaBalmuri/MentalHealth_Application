{
 "cells": [
  {
   "cell_type": "code",
   "execution_count": 1,
   "id": "1a94ba67",
   "metadata": {},
   "outputs": [],
   "source": [
    "import numpy as np\n",
    "import pandas as pd\n",
    "from girth import grm_jml, condition_polytomous_response\n",
    "from girth import tag_missing_data, validate_estimation_options\n",
    "from girth.synthetic import create_synthetic_irt_polytomous"
   ]
  },
  {
   "cell_type": "code",
   "execution_count": 48,
   "id": "920b9b55",
   "metadata": {},
   "outputs": [],
   "source": [
    "df = pd.read_csv('DPQ_H.csv')"
   ]
  },
  {
   "cell_type": "code",
   "execution_count": 7,
   "id": "f62eca33",
   "metadata": {},
   "outputs": [],
   "source": [
    "def filter_rows(df, cutoff):\n",
    "    tot_cols = df.shape[1]\n",
    "    print(\"original number of rows: \", df.shape[0])\n",
    "    df = df[df.isnull().sum(axis=1) < tot_cols*cutoff]\n",
    "    print(\"remaining rows: \", df.shape[0])\n",
    "    return df"
   ]
  },
  {
   "cell_type": "code",
   "execution_count": 50,
   "id": "f19979a8",
   "metadata": {},
   "outputs": [
    {
     "name": "stdout",
     "output_type": "stream",
     "text": [
      "original number of rows:  5924\n",
      "remaining rows:  5395\n"
     ]
    }
   ],
   "source": [
    "df.drop(['SEQN'], axis = 1, inplace=True)\n",
    "df = filter_rows(df, cutoff=0.8)\n",
    "df.fillna(df.mode().iloc[0], inplace=True)\n",
    "df = df.astype(int)\n",
    "df = df.replace([7, 9], 3)\n",
    "df += 1"
   ]
  },
  {
   "cell_type": "code",
   "execution_count": 96,
   "id": "1de6f1f5",
   "metadata": {},
   "outputs": [
    {
     "data": {
      "text/html": [
       "<div>\n",
       "<style scoped>\n",
       "    .dataframe tbody tr th:only-of-type {\n",
       "        vertical-align: middle;\n",
       "    }\n",
       "\n",
       "    .dataframe tbody tr th {\n",
       "        vertical-align: top;\n",
       "    }\n",
       "\n",
       "    .dataframe thead th {\n",
       "        text-align: right;\n",
       "    }\n",
       "</style>\n",
       "<table border=\"1\" class=\"dataframe\">\n",
       "  <thead>\n",
       "    <tr style=\"text-align: right;\">\n",
       "      <th></th>\n",
       "      <th>DPQ010</th>\n",
       "      <th>DPQ020</th>\n",
       "      <th>DPQ030</th>\n",
       "      <th>DPQ040</th>\n",
       "      <th>DPQ050</th>\n",
       "      <th>DPQ060</th>\n",
       "      <th>DPQ070</th>\n",
       "      <th>DPQ080</th>\n",
       "      <th>DPQ090</th>\n",
       "      <th>DPQ100</th>\n",
       "    </tr>\n",
       "  </thead>\n",
       "  <tbody>\n",
       "    <tr>\n",
       "      <th>0</th>\n",
       "      <td>2</td>\n",
       "      <td>1</td>\n",
       "      <td>1</td>\n",
       "      <td>1</td>\n",
       "      <td>1</td>\n",
       "      <td>1</td>\n",
       "      <td>1</td>\n",
       "      <td>1</td>\n",
       "      <td>1</td>\n",
       "      <td>2</td>\n",
       "    </tr>\n",
       "    <tr>\n",
       "      <th>1</th>\n",
       "      <td>3</td>\n",
       "      <td>1</td>\n",
       "      <td>1</td>\n",
       "      <td>1</td>\n",
       "      <td>1</td>\n",
       "      <td>1</td>\n",
       "      <td>1</td>\n",
       "      <td>1</td>\n",
       "      <td>1</td>\n",
       "      <td>1</td>\n",
       "    </tr>\n",
       "    <tr>\n",
       "      <th>2</th>\n",
       "      <td>1</td>\n",
       "      <td>1</td>\n",
       "      <td>1</td>\n",
       "      <td>1</td>\n",
       "      <td>1</td>\n",
       "      <td>1</td>\n",
       "      <td>1</td>\n",
       "      <td>1</td>\n",
       "      <td>1</td>\n",
       "      <td>1</td>\n",
       "    </tr>\n",
       "    <tr>\n",
       "      <th>3</th>\n",
       "      <td>3</td>\n",
       "      <td>2</td>\n",
       "      <td>1</td>\n",
       "      <td>4</td>\n",
       "      <td>4</td>\n",
       "      <td>1</td>\n",
       "      <td>1</td>\n",
       "      <td>1</td>\n",
       "      <td>1</td>\n",
       "      <td>2</td>\n",
       "    </tr>\n",
       "    <tr>\n",
       "      <th>4</th>\n",
       "      <td>4</td>\n",
       "      <td>4</td>\n",
       "      <td>4</td>\n",
       "      <td>4</td>\n",
       "      <td>4</td>\n",
       "      <td>2</td>\n",
       "      <td>3</td>\n",
       "      <td>2</td>\n",
       "      <td>1</td>\n",
       "      <td>4</td>\n",
       "    </tr>\n",
       "  </tbody>\n",
       "</table>\n",
       "</div>"
      ],
      "text/plain": [
       "   DPQ010  DPQ020  DPQ030  DPQ040  DPQ050  DPQ060  DPQ070  DPQ080  DPQ090  \\\n",
       "0       2       1       1       1       1       1       1       1       1   \n",
       "1       3       1       1       1       1       1       1       1       1   \n",
       "2       1       1       1       1       1       1       1       1       1   \n",
       "3       3       2       1       4       4       1       1       1       1   \n",
       "4       4       4       4       4       4       2       3       2       1   \n",
       "\n",
       "   DPQ100  \n",
       "0       2  \n",
       "1       1  \n",
       "2       1  \n",
       "3       2  \n",
       "4       4  "
      ]
     },
     "execution_count": 96,
     "metadata": {},
     "output_type": "execute_result"
    }
   ],
   "source": [
    "df.head()"
   ]
  },
  {
   "cell_type": "code",
   "execution_count": 75,
   "id": "01853683",
   "metadata": {},
   "outputs": [],
   "source": [
    "nd_array_input = df[:].values"
   ]
  },
  {
   "cell_type": "code",
   "execution_count": 76,
   "id": "55a8e65e",
   "metadata": {},
   "outputs": [
    {
     "name": "stdout",
     "output_type": "stream",
     "text": [
      "[[2 1 1 1 1 1 1 1 1 2]\n",
      " [3 1 1 1 1 1 1 1 1 1]\n",
      " [1 1 1 1 1 1 1 1 1 1]\n",
      " [3 2 1 4 4 1 1 1 1 2]\n",
      " [4 4 4 4 4 2 3 2 1 4]]\n"
     ]
    }
   ],
   "source": [
    "print(nd_array_input[0:5, :])"
   ]
  },
  {
   "cell_type": "code",
   "execution_count": 87,
   "id": "7179b4ac",
   "metadata": {},
   "outputs": [
    {
     "data": {
      "text/plain": [
       "array([1, 2, 3, 4])"
      ]
     },
     "execution_count": 87,
     "metadata": {},
     "output_type": "execute_result"
    }
   ],
   "source": [
    "np.unique(nd_array_input)"
   ]
  },
  {
   "cell_type": "code",
   "execution_count": 88,
   "id": "79b0f561",
   "metadata": {},
   "outputs": [],
   "source": [
    "\n",
    "estimated_parameters = grm_jml(nd_array_input)"
   ]
  },
  {
   "cell_type": "code",
   "execution_count": 95,
   "id": "99a548d2",
   "metadata": {},
   "outputs": [
    {
     "name": "stdout",
     "output_type": "stream",
     "text": [
      "[[ 4.23945222         nan         nan]\n",
      " [ 3.20435814         nan         nan]\n",
      " [ 6.                 nan         nan]\n",
      " [ 0.14982367  0.46418826  0.68770248]\n",
      " [-1.57584633 -0.16143177  0.04549995]]\n"
     ]
    }
   ],
   "source": [
    "print(estimated_parameters['Difficulty'][0:5, :])"
   ]
  },
  {
   "cell_type": "code",
   "execution_count": null,
   "id": "7c95afa8",
   "metadata": {},
   "outputs": [],
   "source": []
  }
 ],
 "metadata": {
  "kernelspec": {
   "display_name": "Python 3 (ipykernel)",
   "language": "python",
   "name": "python3"
  },
  "language_info": {
   "codemirror_mode": {
    "name": "ipython",
    "version": 3
   },
   "file_extension": ".py",
   "mimetype": "text/x-python",
   "name": "python",
   "nbconvert_exporter": "python",
   "pygments_lexer": "ipython3",
   "version": "3.10.6"
  }
 },
 "nbformat": 4,
 "nbformat_minor": 5
}
